{
 "cells": [
  {
   "cell_type": "code",
   "execution_count": 41,
   "metadata": {},
   "outputs": [],
   "source": [
    "from sklearn.linear_model import LinearRegression\n",
    "import pandas as pd\n",
    "import matplotlib.pyplot as plt"
   ]
  },
  {
   "cell_type": "code",
   "execution_count": 42,
   "metadata": {},
   "outputs": [],
   "source": [
    "model = LinearRegression()"
   ]
  },
  {
   "cell_type": "code",
   "execution_count": 43,
   "metadata": {},
   "outputs": [],
   "source": [
    "df = pd.read_csv('bmi_and_life_expectancy.csv')"
   ]
  },
  {
   "cell_type": "code",
   "execution_count": 44,
   "metadata": {},
   "outputs": [
    {
     "data": {
      "text/html": [
       "<div>\n",
       "<style scoped>\n",
       "    .dataframe tbody tr th:only-of-type {\n",
       "        vertical-align: middle;\n",
       "    }\n",
       "\n",
       "    .dataframe tbody tr th {\n",
       "        vertical-align: top;\n",
       "    }\n",
       "\n",
       "    .dataframe thead th {\n",
       "        text-align: right;\n",
       "    }\n",
       "</style>\n",
       "<table border=\"1\" class=\"dataframe\">\n",
       "  <thead>\n",
       "    <tr style=\"text-align: right;\">\n",
       "      <th></th>\n",
       "      <th>Country</th>\n",
       "      <th>Life expectancy</th>\n",
       "      <th>BMI</th>\n",
       "    </tr>\n",
       "  </thead>\n",
       "  <tbody>\n",
       "    <tr>\n",
       "      <td>0</td>\n",
       "      <td>Afghanistan</td>\n",
       "      <td>52.8</td>\n",
       "      <td>20.62058</td>\n",
       "    </tr>\n",
       "    <tr>\n",
       "      <td>1</td>\n",
       "      <td>Albania</td>\n",
       "      <td>76.8</td>\n",
       "      <td>26.44657</td>\n",
       "    </tr>\n",
       "    <tr>\n",
       "      <td>2</td>\n",
       "      <td>Algeria</td>\n",
       "      <td>75.5</td>\n",
       "      <td>24.59620</td>\n",
       "    </tr>\n",
       "    <tr>\n",
       "      <td>3</td>\n",
       "      <td>Andorra</td>\n",
       "      <td>84.6</td>\n",
       "      <td>27.63048</td>\n",
       "    </tr>\n",
       "    <tr>\n",
       "      <td>4</td>\n",
       "      <td>Angola</td>\n",
       "      <td>56.7</td>\n",
       "      <td>22.25083</td>\n",
       "    </tr>\n",
       "  </tbody>\n",
       "</table>\n",
       "</div>"
      ],
      "text/plain": [
       "       Country  Life expectancy       BMI\n",
       "0  Afghanistan             52.8  20.62058\n",
       "1      Albania             76.8  26.44657\n",
       "2      Algeria             75.5  24.59620\n",
       "3      Andorra             84.6  27.63048\n",
       "4       Angola             56.7  22.25083"
      ]
     },
     "execution_count": 44,
     "metadata": {},
     "output_type": "execute_result"
    }
   ],
   "source": [
    "df.head()"
   ]
  },
  {
   "cell_type": "code",
   "execution_count": 45,
   "metadata": {},
   "outputs": [],
   "source": [
    "X = df[['BMI']]\n",
    "y = df[['Life expectancy']]"
   ]
  },
  {
   "cell_type": "code",
   "execution_count": 46,
   "metadata": {},
   "outputs": [
    {
     "data": {
      "text/plain": [
       "LinearRegression(copy_X=True, fit_intercept=True, n_jobs=None, normalize=False)"
      ]
     },
     "execution_count": 46,
     "metadata": {},
     "output_type": "execute_result"
    }
   ],
   "source": [
    "model.fit(X, y)"
   ]
  },
  {
   "cell_type": "code",
   "execution_count": 47,
   "metadata": {},
   "outputs": [
    {
     "data": {
      "text/plain": [
       "array([[59.16034509],\n",
       "       [73.83298112],\n",
       "       [69.17286232],\n",
       "       [76.81463411],\n",
       "       [63.2660962 ],\n",
       "       [71.08494228],\n",
       "       [76.64652561],\n",
       "       [73.88546623],\n",
       "       [71.82978257],\n",
       "       [75.84617803],\n",
       "       [58.59832122],\n",
       "       [73.67638207],\n",
       "       [73.12241733],\n",
       "       [74.62020742],\n",
       "       [75.2835749 ],\n",
       "       [63.68799187],\n",
       "       [64.7040724 ],\n",
       "       [68.76272794],\n",
       "       [74.24868133],\n",
       "       [62.96138537],\n",
       "       [72.1699284 ],\n",
       "       [74.0754855 ],\n",
       "       [60.79985002],\n",
       "       [61.38247505],\n",
       "       [59.62470233],\n",
       "       [66.86978843],\n",
       "       [76.36538775],\n",
       "       [66.45043641],\n",
       "       [61.33910684],\n",
       "       [75.26561815],\n",
       "       [64.95581961],\n",
       "       [70.03974813],\n",
       "       [62.78879397],\n",
       "       [57.26226788],\n",
       "       [62.31035843],\n",
       "       [73.91457985],\n",
       "       [64.05654615],\n",
       "       [74.21004786],\n",
       "       [70.3627683 ],\n",
       "       [76.28200089],\n",
       "       [73.04293412],\n",
       "       [66.1200371 ],\n",
       "       [71.6717228 ],\n",
       "       [74.55291365],\n",
       "       [73.63387013],\n",
       "       [59.82650809],\n",
       "       [73.37434083],\n",
       "       [58.21949154],\n",
       "       [74.04506227],\n",
       "       [74.55533139],\n",
       "       [72.33881764],\n",
       "       [84.96705279],\n",
       "       [67.86325301],\n",
       "       [61.75364855],\n",
       "       [71.57352729],\n",
       "       [75.64255896],\n",
       "       [64.75612937],\n",
       "       [73.55919722],\n",
       "       [72.74252989],\n",
       "       [70.6428484 ],\n",
       "       [70.94403335],\n",
       "       [63.95530328],\n",
       "       [61.73624586],\n",
       "       [66.87714239],\n",
       "       [66.82266768],\n",
       "       [70.4636334 ],\n",
       "       [75.51812089],\n",
       "       [75.74778103],\n",
       "       [60.01405925],\n",
       "       [62.27112052],\n",
       "       [70.9706285 ],\n",
       "       [74.4968523 ],\n",
       "       [76.87197989],\n",
       "       [75.55798842],\n",
       "       [67.68194767],\n",
       "       [66.4122059 ],\n",
       "       [76.41958542],\n",
       "       [73.44062721],\n",
       "       [61.60830711],\n",
       "       [80.69719757],\n",
       "       [73.85907256],\n",
       "       [62.38649207],\n",
       "       [62.37087749],\n",
       "       [74.07241296],\n",
       "       [74.87676492],\n",
       "       [76.31990401],\n",
       "       [73.57649917],\n",
       "       [61.13203746],\n",
       "       [62.72172687],\n",
       "       [69.51157262],\n",
       "       [65.70670425],\n",
       "       [62.10250833],\n",
       "       [76.94844092],\n",
       "       [81.20406674],\n",
       "       [64.20327277],\n",
       "       [70.58444486],\n",
       "       [76.29633104],\n",
       "       [68.26797266],\n",
       "       [69.89730293],\n",
       "       [74.10384358],\n",
       "       [71.78104999],\n",
       "       [62.47159149],\n",
       "       [61.24750974],\n",
       "       [64.27159911],\n",
       "       [59.52013506],\n",
       "       [72.74711352],\n",
       "       [72.13638226],\n",
       "       [60.66891427],\n",
       "       [65.23652932],\n",
       "       [75.06116799],\n",
       "       [73.31548396],\n",
       "       [63.38776394],\n",
       "       [73.38726063],\n",
       "       [70.22775262],\n",
       "       [71.55541942],\n",
       "       [69.61160662],\n",
       "       [64.83208671],\n",
       "       [74.4052552 ],\n",
       "       [74.43207701],\n",
       "       [78.07614046],\n",
       "       [71.22413864],\n",
       "       [72.73678776],\n",
       "       [64.0309584 ],\n",
       "       [83.85194565],\n",
       "       [66.44315801],\n",
       "       [62.45161995],\n",
       "       [74.00519474],\n",
       "       [63.97268079],\n",
       "       [67.26828743],\n",
       "       [75.04336234],\n",
       "       [76.334486  ],\n",
       "       [62.55674128],\n",
       "       [74.8625607 ],\n",
       "       [76.48539329],\n",
       "       [62.55054582],\n",
       "       [63.65396721],\n",
       "       [71.44621815],\n",
       "       [65.58022621],\n",
       "       [73.65598238],\n",
       "       [73.21691068],\n",
       "       [75.02452411],\n",
       "       [67.11642312],\n",
       "       [63.83801769],\n",
       "       [65.17308883],\n",
       "       [59.08539514],\n",
       "       [62.32902037],\n",
       "       [85.28969519],\n",
       "       [73.70735936],\n",
       "       [70.5852004 ],\n",
       "       [74.48058292],\n",
       "       [70.81430648],\n",
       "       [63.53683274],\n",
       "       [71.25713072],\n",
       "       [77.88022794],\n",
       "       [76.21526119],\n",
       "       [78.89615737],\n",
       "       [73.69360846],\n",
       "       [70.99709771],\n",
       "       [74.69603884],\n",
       "       [74.16272563],\n",
       "       [59.90510983],\n",
       "       [59.31807746],\n",
       "       [62.70137755]])"
      ]
     },
     "execution_count": 47,
     "metadata": {},
     "output_type": "execute_result"
    }
   ],
   "source": [
    "predictions = model.predict(X)\n",
    "predictions"
   ]
  },
  {
   "cell_type": "code",
   "execution_count": 48,
   "metadata": {},
   "outputs": [
    {
     "data": {
      "text/plain": [
       "[<matplotlib.lines.Line2D at 0x1a29eba7d0>]"
      ]
     },
     "execution_count": 48,
     "metadata": {},
     "output_type": "execute_result"
    },
    {
     "data": {
      "image/png": "[encoded data removed]",
      "text/plain": [
       "<Figure size 432x288 with 1 Axes>"
      ]
     },
     "metadata": {
      "needs_background": "light"
     },
     "output_type": "display_data"
    }
   ],
   "source": [
    "plt.subplot()\n",
    "plt.scatter(X,y)\n",
    "plt.plot(X, predictions)"
   ]
  }
 ],
 "metadata": {
  "kernelspec": {
   "display_name": "Python 3",
   "language": "python",
   "name": "python3"
  },
  "language_info": {
   "codemirror_mode": {
    "name": "ipython",
    "version": 3
   },
   "file_extension": ".py",
   "mimetype": "text/x-python",
   "name": "python",
   "nbconvert_exporter": "python",
   "pygments_lexer": "ipython3",
   "version": "3.7.4"
  }
 },
 "nbformat": 4,
 "nbformat_minor": 2
}
